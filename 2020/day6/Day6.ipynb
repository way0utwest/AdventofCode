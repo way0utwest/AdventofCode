{
    "metadata": {
        "kernelspec": {
            "name": "python3",
            "display_name": "Python 3",
            "language": "python"
        },
        "language_info": {
            "name": "python",
            "version": "3.8.3",
            "mimetype": "text/x-python",
            "codemirror_mode": {
                "name": "ipython",
                "version": 3
            },
            "pygments_lexer": "ipython3",
            "nbconvert_exporter": "python",
            "file_extension": ".py"
        }
    },
    "nbformat_minor": 2,
    "nbformat": 4,
    "cells": [
        {
            "cell_type": "markdown",
            "source": [
                "Day 6\n",
                "\n",
                "Split into groups"
            ],
            "metadata": {
                "azdata_cell_guid": "6614b3a8-f04a-4b55-b962-81ec2cd94152"
            }
        },
        {
            "cell_type": "code",
            "source": [
                "answers = ('ulonjadhygcx', 'rzqhjglby', 'hgaupcjywlox')\r\n",
                "answers[0]\r\n",
                "groups = set.intersection(*[set(answer) for answer in answers])\r\n",
                "print(groups)"
            ],
            "metadata": {
                "azdata_cell_guid": "df1b6ca1-d9e8-44d4-bab6-566e8837d309"
            },
            "outputs": [
                {
                    "name": "stdout",
                    "text": "{'j', 'g', 'h', 'l', 'y'}\n",
                    "output_type": "stream"
                }
            ],
            "execution_count": 6
        }
    ]
}