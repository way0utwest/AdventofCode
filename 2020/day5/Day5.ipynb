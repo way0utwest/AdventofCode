{
    "metadata": {
        "kernelspec": {
            "name": "python3",
            "display_name": "Python 3",
            "language": "python"
        },
        "language_info": {
            "name": "python",
            "version": "3.8.3",
            "mimetype": "text/x-python",
            "codemirror_mode": {
                "name": "ipython",
                "version": 3
            },
            "pygments_lexer": "ipython3",
            "nbconvert_exporter": "python",
            "file_extension": ".py"
        }
    },
    "nbformat_minor": 2,
    "nbformat": 4,
    "cells": [
        {
            "cell_type": "code",
            "source": [
                "import math\n",
                "limit = 127\n",
                "code = \"BBFBFFBLRL\"\n",
                "counter = 1\n",
                "\n",
                "rowcode = code[0:6]\n",
                "seatcode = code[7:]\n",
                "\n",
                "min = 0\n",
                "max = 127\n",
                "\n",
                "for letter in rowcode:\n",
                "    if letter == 'F':\n",
                "        max = math.floor((max-min)/2) + min\n",
                "    else:\n",
                "        min = math.ceil((max-min)/2) + min\n",
                "\n",
                "row = min\n",
                "\n",
                "print(\"Row: \", row)\n",
                ""
            ],
            "metadata": {
                "azdata_cell_guid": "4d546502-e6bd-4189-aab5-a6c9ec715f3e"
            },
            "outputs": [
                {
                    "name": "stdout",
                    "text": "Row:  104\n",
                    "output_type": "stream"
                }
            ],
            "execution_count": 11
        },
        {
            "cell_type": "markdown",
            "source": [
                "The seat code is parsing the seat part from 0-7"
            ],
            "metadata": {
                "azdata_cell_guid": "be26d25d-5a71-4ab4-99b2-b1c95e4657c0"
            }
        },
        {
            "cell_type": "code",
            "source": [
                "min = 0\r\n",
                "max = 7\r\n",
                "\r\n",
                "for letter in seatcode:\r\n",
                "        if letter == 'L':\r\n",
                "            max = math.floor((max-min)/2) + min\r\n",
                "        else:\r\n",
                "            min = math.ceil((max-min)/2) + min\r\n",
                "        print(letter, min, max)\r\n",
                "\r\n",
                "seat = min\r\n",
                "\r\n",
                "print(\"Seat: \", seat)\r\n",
                ""
            ],
            "metadata": {
                "azdata_cell_guid": "15555d7d-f8bd-4078-b738-17b87ed6e202"
            },
            "outputs": [
                {
                    "name": "stdout",
                    "text": "L 0 3\nR 2 3\nL 2 2\nSeat:  2\n",
                    "output_type": "stream"
                }
            ],
            "execution_count": 12
        },
        {
            "cell_type": "markdown",
            "source": [
                "The next part is the unique id. Row \\* 8 + seat."
            ],
            "metadata": {
                "azdata_cell_guid": "1ef8412e-b009-476d-a8bd-771073ea7410"
            }
        },
        {
            "cell_type": "code",
            "source": [
                "seatID = (row * 8) + seat \n",
                "print(\"SeatID:\", seatID)"
            ],
            "metadata": {
                "azdata_cell_guid": "9c58bc6e-158a-4f3e-a79d-4e9b9e7e6a4f"
            },
            "outputs": [
                {
                    "name": "stdout",
                    "text": "SeatID: 834\n",
                    "output_type": "stream"
                }
            ],
            "execution_count": 13
        },
        {
            "cell_type": "markdown",
            "source": [
                "This appears to be a binary value. Let's try converying to binary."
            ],
            "metadata": {
                "azdata_cell_guid": "3483b937-ac49-429a-9cda-8d70edd2a698"
            }
        },
        {
            "cell_type": "code",
            "source": [
                "binaryvalue = code.replace('F', '0').replace('B', '1').replace('L', '0').replace('R', '1')\r\n",
                "print(binaryvalue)\r\n",
                "\r\n",
                "i = int(binaryvalue, 2)\r\n",
                "print(i)"
            ],
            "metadata": {
                "azdata_cell_guid": "1fd4210c-ac99-46aa-a401-16e2a53c1079"
            },
            "outputs": [
                {
                    "name": "stdout",
                    "text": "1101001010\n842\n",
                    "output_type": "stream"
                }
            ],
            "execution_count": 17
        }
    ]
}